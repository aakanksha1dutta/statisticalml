{
 "cells": [
  {
   "cell_type": "code",
   "execution_count": 1,
   "metadata": {},
   "outputs": [],
   "source": [
    "import numpy as np"
   ]
  },
  {
   "cell_type": "code",
   "execution_count": 8,
   "metadata": {},
   "outputs": [
    {
     "data": {
      "text/plain": [
       "2"
      ]
     },
     "execution_count": 8,
     "metadata": {},
     "output_type": "execute_result"
    }
   ],
   "source": [
    "np.array([[1,2],[1,2]]).shape[0]"
   ]
  },
  {
   "cell_type": "markdown",
   "metadata": {},
   "source": [
    "# 1. Writing a handwritten dot product"
   ]
  },
  {
   "cell_type": "code",
   "execution_count": 56,
   "metadata": {},
   "outputs": [],
   "source": [
    "def dot(a: list, b:list):\n",
    "\n",
    "    mat_a, mat_b = np.array(a), np.array(b)\n",
    "\n",
    "    #only valid when ncol of a = nrow of b\n",
    "    if mat_a.shape[-1]!=mat_b.shape[0]: \n",
    "        raise Exception('Invalid Matrix Dimensions')\n",
    "\n",
    "    mat_ans = []\n",
    "    nrows = mat_a.shape[0] #resulting rows\n",
    "    ncols = mat_b.shape[1] #resulting cols\n",
    "    for row in range(nrows): \n",
    "        ans_row = []\n",
    "        for col in range(ncols):\n",
    "            ele = 0\n",
    "            for i in range(nrows): #dot product loop\n",
    "                ele += mat_a[row, i]*mat_b[i, col]\n",
    "            ans_row.append(ele)\n",
    "        mat_ans.append(ans_row)\n",
    "    \n",
    "    return np.array(mat_ans)"
   ]
  },
  {
   "cell_type": "code",
   "execution_count": 61,
   "metadata": {},
   "outputs": [
    {
     "name": "stdout",
     "output_type": "stream",
     "text": [
      "Handwritten function:\n",
      "[[10  1]\n",
      " [34 27]\n",
      " [ 4  6]]\n",
      "\n",
      "np.dot() method:\n",
      "[[10  1]\n",
      " [34 27]\n",
      " [ 4  6]]\n"
     ]
    }
   ],
   "source": [
    "print(\"Handwritten function:\")\n",
    "print(dot([[4,-3,-2], [6,0,-1], [2,1,3]], [[5, 4], [6, 7], [-4,-3]]))\n",
    "\n",
    "print()\n",
    "print(\"np.dot() method:\")\n",
    "print(np.dot([[4,-3,-2], [6,0,-1], [2,1,3]], [[5, 4], [6, 7], [-4,-3]]))"
   ]
  },
  {
   "cell_type": "code",
   "execution_count": 62,
   "metadata": {},
   "outputs": [
    {
     "name": "stdout",
     "output_type": "stream",
     "text": [
      "Handwritten function:\n",
      "[[1 2 3 4]\n",
      " [5 6 7 8]]\n",
      "\n",
      "np.dot() method:\n",
      "[[1 2 3 4]\n",
      " [5 6 7 8]]\n"
     ]
    }
   ],
   "source": [
    "print(\"Handwritten function:\")\n",
    "print(dot([[1,0], [0,1]], [[1,2,3,4], [5,6,7,8]]))\n",
    "\n",
    "print()\n",
    "print(\"np.dot() method:\")\n",
    "print(np.dot([[1,0], [0,1]], [[1,2,3,4], [5,6,7,8]]))"
   ]
  },
  {
   "cell_type": "code",
   "execution_count": null,
   "metadata": {},
   "outputs": [],
   "source": []
  }
 ],
 "metadata": {
  "kernelspec": {
   "display_name": "kaggle",
   "language": "python",
   "name": "python3"
  },
  "language_info": {
   "codemirror_mode": {
    "name": "ipython",
    "version": 3
   },
   "file_extension": ".py",
   "mimetype": "text/x-python",
   "name": "python",
   "nbconvert_exporter": "python",
   "pygments_lexer": "ipython3",
   "version": "3.12.2"
  }
 },
 "nbformat": 4,
 "nbformat_minor": 2
}
